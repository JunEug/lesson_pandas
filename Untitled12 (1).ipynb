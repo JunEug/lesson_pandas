{
 "cells": [
  {
   "cell_type": "code",
   "execution_count": 1,
   "id": "9ff8615e",
   "metadata": {},
   "outputs": [],
   "source": [
    "#Задание 1\n",
    "import pandas as pd\n",
    "import numpy as np"
   ]
  },
  {
   "cell_type": "code",
   "execution_count": 9,
   "id": "88d073cb",
   "metadata": {},
   "outputs": [
    {
     "name": "stdout",
     "output_type": "stream",
     "text": [
      "      movieId                                      title  \\\n",
      "0           1                           Toy Story (1995)   \n",
      "1           2                             Jumanji (1995)   \n",
      "2           3                    Grumpier Old Men (1995)   \n",
      "3           4                   Waiting to Exhale (1995)   \n",
      "4           5         Father of the Bride Part II (1995)   \n",
      "...       ...                                        ...   \n",
      "9737   193581  Black Butler: Book of the Atlantic (2017)   \n",
      "9738   193583               No Game No Life: Zero (2017)   \n",
      "9739   193585                               Flint (2017)   \n",
      "9740   193587        Bungo Stray Dogs: Dead Apple (2018)   \n",
      "9741   193609        Andrew Dice Clay: Dice Rules (1991)   \n",
      "\n",
      "                                           genres  \n",
      "0     Adventure|Animation|Children|Comedy|Fantasy  \n",
      "1                      Adventure|Children|Fantasy  \n",
      "2                                  Comedy|Romance  \n",
      "3                            Comedy|Drama|Romance  \n",
      "4                                          Comedy  \n",
      "...                                           ...  \n",
      "9737              Action|Animation|Comedy|Fantasy  \n",
      "9738                     Animation|Comedy|Fantasy  \n",
      "9739                                        Drama  \n",
      "9740                             Action|Animation  \n",
      "9741                                       Comedy  \n",
      "\n",
      "[9742 rows x 3 columns]\n"
     ]
    }
   ],
   "source": [
    "df = pd.read_csv(\"./dz_files/dz1/movies.csv\")\n",
    "df1 = pd.read_csv(\"./dz_files/dz1/ratings.csv\")\n",
    "print(df)"
   ]
  },
  {
   "cell_type": "code",
   "execution_count": 10,
   "id": "23019d9e",
   "metadata": {},
   "outputs": [
    {
     "name": "stdout",
     "output_type": "stream",
     "text": [
      "        userId  movieId  rating   timestamp\n",
      "0            1        1     4.0   964982703\n",
      "1            1        3     4.0   964981247\n",
      "2            1        6     4.0   964982224\n",
      "3            1       47     5.0   964983815\n",
      "4            1       50     5.0   964982931\n",
      "...        ...      ...     ...         ...\n",
      "100831     610   166534     4.0  1493848402\n",
      "100832     610   168248     5.0  1493850091\n",
      "100833     610   168250     5.0  1494273047\n",
      "100834     610   168252     5.0  1493846352\n",
      "100835     610   170875     3.0  1493846415\n",
      "\n",
      "[100836 rows x 4 columns]\n"
     ]
    }
   ],
   "source": [
    "print(df1)"
   ]
  },
  {
   "cell_type": "code",
   "execution_count": 25,
   "id": "2148588d",
   "metadata": {},
   "outputs": [],
   "source": [
    "df1 = df1.merge(df,how='outer',left_on=['movieId'],right_on=['movieId'])\n"
   ]
  },
  {
   "cell_type": "code",
   "execution_count": 26,
   "id": "c4bf33d8",
   "metadata": {},
   "outputs": [
    {
     "name": "stdout",
     "output_type": "stream",
     "text": [
      "        userId  movieId  rating     timestamp  \\\n",
      "0          1.0        1     4.0  9.649827e+08   \n",
      "1          5.0        1     4.0  8.474350e+08   \n",
      "2          7.0        1     4.5  1.106636e+09   \n",
      "3         15.0        1     2.5  1.510578e+09   \n",
      "4         17.0        1     4.5  1.305696e+09   \n",
      "...        ...      ...     ...           ...   \n",
      "100849     NaN    30892     NaN           NaN   \n",
      "100850     NaN    32160     NaN           NaN   \n",
      "100851     NaN    32371     NaN           NaN   \n",
      "100852     NaN    34482     NaN           NaN   \n",
      "100853     NaN    85565     NaN           NaN   \n",
      "\n",
      "                                     title  \\\n",
      "0                         Toy Story (1995)   \n",
      "1                         Toy Story (1995)   \n",
      "2                         Toy Story (1995)   \n",
      "3                         Toy Story (1995)   \n",
      "4                         Toy Story (1995)   \n",
      "...                                    ...   \n",
      "100849  In the Realms of the Unreal (2004)   \n",
      "100850            Twentieth Century (1934)   \n",
      "100851           Call Northside 777 (1948)   \n",
      "100852        Browning Version, The (1951)   \n",
      "100853                  Chalet Girl (2011)   \n",
      "\n",
      "                                             genres  \n",
      "0       Adventure|Animation|Children|Comedy|Fantasy  \n",
      "1       Adventure|Animation|Children|Comedy|Fantasy  \n",
      "2       Adventure|Animation|Children|Comedy|Fantasy  \n",
      "3       Adventure|Animation|Children|Comedy|Fantasy  \n",
      "4       Adventure|Animation|Children|Comedy|Fantasy  \n",
      "...                                             ...  \n",
      "100849                        Animation|Documentary  \n",
      "100850                                       Comedy  \n",
      "100851                        Crime|Drama|Film-Noir  \n",
      "100852                                        Drama  \n",
      "100853                               Comedy|Romance  \n",
      "\n",
      "[100854 rows x 6 columns]\n"
     ]
    }
   ],
   "source": [
    "print(df1)"
   ]
  },
  {
   "cell_type": "code",
   "execution_count": 42,
   "id": "de81ffdf",
   "metadata": {},
   "outputs": [
    {
     "data": {
      "text/html": [
       "<div>\n",
       "<style scoped>\n",
       "    .dataframe tbody tr th:only-of-type {\n",
       "        vertical-align: middle;\n",
       "    }\n",
       "\n",
       "    .dataframe tbody tr th {\n",
       "        vertical-align: top;\n",
       "    }\n",
       "\n",
       "    .dataframe thead th {\n",
       "        text-align: right;\n",
       "    }\n",
       "</style>\n",
       "<table border=\"1\" class=\"dataframe\">\n",
       "  <thead>\n",
       "    <tr style=\"text-align: right;\">\n",
       "      <th></th>\n",
       "      <th>userId</th>\n",
       "      <th>movieId</th>\n",
       "      <th>rating</th>\n",
       "      <th>timestamp</th>\n",
       "      <th>title</th>\n",
       "      <th>genres</th>\n",
       "    </tr>\n",
       "  </thead>\n",
       "  <tbody>\n",
       "    <tr>\n",
       "      <th>9</th>\n",
       "      <td>31.0</td>\n",
       "      <td>1</td>\n",
       "      <td>5.0</td>\n",
       "      <td>8.504666e+08</td>\n",
       "      <td>Toy Story (1995)</td>\n",
       "      <td>Adventure|Animation|Children|Comedy|Fantasy</td>\n",
       "    </tr>\n",
       "    <tr>\n",
       "      <th>216</th>\n",
       "      <td>6.0</td>\n",
       "      <td>3</td>\n",
       "      <td>5.0</td>\n",
       "      <td>8.455543e+08</td>\n",
       "      <td>Grumpier Old Men (1995)</td>\n",
       "      <td>Comedy|Romance</td>\n",
       "    </tr>\n",
       "    <tr>\n",
       "      <th>269</th>\n",
       "      <td>11.0</td>\n",
       "      <td>6</td>\n",
       "      <td>5.0</td>\n",
       "      <td>9.021543e+08</td>\n",
       "      <td>Heat (1995)</td>\n",
       "      <td>Action|Crime|Thriller</td>\n",
       "    </tr>\n",
       "    <tr>\n",
       "      <th>369</th>\n",
       "      <td>1.0</td>\n",
       "      <td>47</td>\n",
       "      <td>5.0</td>\n",
       "      <td>9.649838e+08</td>\n",
       "      <td>Seven (a.k.a. Se7en) (1995)</td>\n",
       "      <td>Mystery|Thriller</td>\n",
       "    </tr>\n",
       "    <tr>\n",
       "      <th>572</th>\n",
       "      <td>1.0</td>\n",
       "      <td>50</td>\n",
       "      <td>5.0</td>\n",
       "      <td>9.649829e+08</td>\n",
       "      <td>Usual Suspects, The (1995)</td>\n",
       "      <td>Crime|Mystery|Thriller</td>\n",
       "    </tr>\n",
       "    <tr>\n",
       "      <th>...</th>\n",
       "      <td>...</td>\n",
       "      <td>...</td>\n",
       "      <td>...</td>\n",
       "      <td>...</td>\n",
       "      <td>...</td>\n",
       "      <td>...</td>\n",
       "    </tr>\n",
       "    <tr>\n",
       "      <th>100761</th>\n",
       "      <td>610.0</td>\n",
       "      <td>96832</td>\n",
       "      <td>5.0</td>\n",
       "      <td>1.479545e+09</td>\n",
       "      <td>Holy Motors (2012)</td>\n",
       "      <td>Drama|Fantasy|Musical|Mystery|Sci-Fi</td>\n",
       "    </tr>\n",
       "    <tr>\n",
       "      <th>100773</th>\n",
       "      <td>610.0</td>\n",
       "      <td>100906</td>\n",
       "      <td>5.0</td>\n",
       "      <td>1.479543e+09</td>\n",
       "      <td>Maniac Cop 2 (1990)</td>\n",
       "      <td>Action|Horror|Thriller</td>\n",
       "    </tr>\n",
       "    <tr>\n",
       "      <th>100787</th>\n",
       "      <td>610.0</td>\n",
       "      <td>107771</td>\n",
       "      <td>5.0</td>\n",
       "      <td>1.479544e+09</td>\n",
       "      <td>Only Lovers Left Alive (2013)</td>\n",
       "      <td>Drama|Horror|Romance</td>\n",
       "    </tr>\n",
       "    <tr>\n",
       "      <th>100802</th>\n",
       "      <td>610.0</td>\n",
       "      <td>115727</td>\n",
       "      <td>5.0</td>\n",
       "      <td>1.479544e+09</td>\n",
       "      <td>Crippled Avengers (Can que) (Return of the 5 D...</td>\n",
       "      <td>Action|Adventure</td>\n",
       "    </tr>\n",
       "    <tr>\n",
       "      <th>100815</th>\n",
       "      <td>610.0</td>\n",
       "      <td>138632</td>\n",
       "      <td>5.0</td>\n",
       "      <td>1.479545e+09</td>\n",
       "      <td>Tokyo Tribe (2014)</td>\n",
       "      <td>Action|Crime|Drama|Sci-Fi</td>\n",
       "    </tr>\n",
       "  </tbody>\n",
       "</table>\n",
       "<p>2954 rows × 6 columns</p>\n",
       "</div>"
      ],
      "text/plain": [
       "        userId  movieId  rating     timestamp  \\\n",
       "9         31.0        1     5.0  8.504666e+08   \n",
       "216        6.0        3     5.0  8.455543e+08   \n",
       "269       11.0        6     5.0  9.021543e+08   \n",
       "369        1.0       47     5.0  9.649838e+08   \n",
       "572        1.0       50     5.0  9.649829e+08   \n",
       "...        ...      ...     ...           ...   \n",
       "100761   610.0    96832     5.0  1.479545e+09   \n",
       "100773   610.0   100906     5.0  1.479543e+09   \n",
       "100787   610.0   107771     5.0  1.479544e+09   \n",
       "100802   610.0   115727     5.0  1.479544e+09   \n",
       "100815   610.0   138632     5.0  1.479545e+09   \n",
       "\n",
       "                                                    title  \\\n",
       "9                                        Toy Story (1995)   \n",
       "216                               Grumpier Old Men (1995)   \n",
       "269                                           Heat (1995)   \n",
       "369                           Seven (a.k.a. Se7en) (1995)   \n",
       "572                            Usual Suspects, The (1995)   \n",
       "...                                                   ...   \n",
       "100761                                 Holy Motors (2012)   \n",
       "100773                                Maniac Cop 2 (1990)   \n",
       "100787                      Only Lovers Left Alive (2013)   \n",
       "100802  Crippled Avengers (Can que) (Return of the 5 D...   \n",
       "100815                                 Tokyo Tribe (2014)   \n",
       "\n",
       "                                             genres  \n",
       "9       Adventure|Animation|Children|Comedy|Fantasy  \n",
       "216                                  Comedy|Romance  \n",
       "269                           Action|Crime|Thriller  \n",
       "369                                Mystery|Thriller  \n",
       "572                          Crime|Mystery|Thriller  \n",
       "...                                             ...  \n",
       "100761         Drama|Fantasy|Musical|Mystery|Sci-Fi  \n",
       "100773                       Action|Horror|Thriller  \n",
       "100787                         Drama|Horror|Romance  \n",
       "100802                             Action|Adventure  \n",
       "100815                    Action|Crime|Drama|Sci-Fi  \n",
       "\n",
       "[2954 rows x 6 columns]"
      ]
     },
     "execution_count": 42,
     "metadata": {},
     "output_type": "execute_result"
    }
   ],
   "source": [
    "df1.loc[df1['rating'] == 5.0].drop_duplicates(['title'])"
   ]
  },
  {
   "cell_type": "code",
   "execution_count": 43,
   "id": "2603836f",
   "metadata": {},
   "outputs": [],
   "source": [
    "#Задание2"
   ]
  },
  {
   "cell_type": "code",
   "execution_count": 45,
   "id": "04a7d85c",
   "metadata": {},
   "outputs": [
    {
     "name": "stdout",
     "output_type": "stream",
     "text": [
      "          country  year  quantity  category\n",
      "0         Austria  1996       5.0         1\n",
      "1         Austria  1995      17.0         1\n",
      "2         Belgium  2014       0.0         1\n",
      "3         Belgium  2013       0.0         1\n",
      "4         Belgium  2012      35.0         1\n",
      "...           ...   ...       ...       ...\n",
      "1189477  Viet Nam  2012      92.0        71\n",
      "1189478  Viet Nam  2011      87.0        71\n",
      "1189479  Viet Nam  2010      50.0        71\n",
      "1189480  Viet Nam  2009      10.0        71\n",
      "1189481  Viet Nam  2008       1.0        71\n",
      "\n",
      "[1189482 rows x 4 columns]\n"
     ]
    }
   ],
   "source": [
    "df2 = pd.read_csv(\"./dz_files/dz2/power.csv\")\n",
    "print(df2)"
   ]
  },
  {
   "cell_type": "code",
   "execution_count": 46,
   "id": "9c0c381f",
   "metadata": {},
   "outputs": [],
   "source": [
    "filtered_data = df2[\n",
    "    df2['country'].isin(['Latvia', 'Lithuania', 'Estonia']) & \n",
    "    df2['category'].isin([4, 12, 21]) & \n",
    "    (df2['year'] >= 2005) & \n",
    "    (df2['year'] <= 2010) & \n",
    "    (df2['quantity'] >= 0)\n",
    "]"
   ]
  },
  {
   "cell_type": "code",
   "execution_count": 47,
   "id": "79126208",
   "metadata": {},
   "outputs": [],
   "source": [
    "total_consumption = filtered_data['quantity'].sum()"
   ]
  },
  {
   "cell_type": "code",
   "execution_count": 48,
   "id": "c89279c9",
   "metadata": {},
   "outputs": [
    {
     "name": "stdout",
     "output_type": "stream",
     "text": [
      "Суммарное потребление стран Прибалтики (Латвия, Литва и Эстония) категорий 4, 12 и 21 за период с 2005 по 2010 год:  240580.0\n"
     ]
    }
   ],
   "source": [
    "print('Суммарное потребление стран Прибалтики (Латвия, Литва и Эстония) категорий 4, 12 и 21 за период с 2005 по 2010 год: ', total_consumption)"
   ]
  },
  {
   "cell_type": "code",
   "execution_count": null,
   "id": "9d1ac1db",
   "metadata": {},
   "outputs": [],
   "source": []
  }
 ],
 "metadata": {
  "kernelspec": {
   "display_name": "Python 3 (ipykernel)",
   "language": "python",
   "name": "python3"
  },
  "language_info": {
   "codemirror_mode": {
    "name": "ipython",
    "version": 3
   },
   "file_extension": ".py",
   "mimetype": "text/x-python",
   "name": "python",
   "nbconvert_exporter": "python",
   "pygments_lexer": "ipython3",
   "version": "3.11.5"
  }
 },
 "nbformat": 4,
 "nbformat_minor": 5
}
